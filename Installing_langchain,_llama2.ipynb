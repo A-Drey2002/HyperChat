{
  "cells": [
    {
      "cell_type": "markdown",
      "metadata": {
        "id": "view-in-github",
        "colab_type": "text"
      },
      "source": [
        "<a href=\"https://colab.research.google.com/github/A-Drey2002/HyperChat/blob/main/Installing_langchain%2C_llama2.ipynb\" target=\"_parent\"><img src=\"https://colab.research.google.com/assets/colab-badge.svg\" alt=\"Open In Colab\"/></a>"
      ]
    },
    {
      "cell_type": "markdown",
      "metadata": {
        "id": "scKxoxmFLTnj"
      },
      "source": [
        "### Set up Virtual environment"
      ]
    },
    {
      "cell_type": "code",
      "execution_count": null,
      "metadata": {
        "id": "W87azGkdLTnm",
        "outputId": "6599bfd7-c560-490c-f877-94fc86785843"
      },
      "outputs": [
        {
          "name": "stdout",
          "output_type": "stream",
          "text": [
            "Tracing Enabled: None\n",
            "API Key: None\n"
          ]
        }
      ],
      "source": [
        "import os\n",
        "# Access environment variables\n",
        "tracing_enabled = os.getenv('LANGCHAIN_TRACING_V2')\n",
        "api_key = os.getenv('LANGCHAIN_API_KEY')\n",
        "\n",
        "# Use the environment variables\n",
        "print(f\"Tracing Enabled: {tracing_enabled}\")\n",
        "print(f\"API Key: {api_key}\")\n",
        "\n"
      ]
    },
    {
      "cell_type": "markdown",
      "metadata": {
        "id": "vaZ_r8EhLTnp"
      },
      "source": [
        "### Creating LLM chain via Ollama integration (local and open source llama2)"
      ]
    },
    {
      "cell_type": "code",
      "execution_count": null,
      "metadata": {
        "id": "sI_OuPcxLTnp",
        "outputId": "bd258997-e19e-4e77-9eac-e95b1fc26b4c"
      },
      "outputs": [
        {
          "name": "stdout",
          "output_type": "stream",
          "text": [
            "Requirement already satisfied: langchain in c:\\users\\dell\\desktop\\capstone\\venv\\lib\\site-packages (0.2.6)\n",
            "Requirement already satisfied: PyYAML>=5.3 in c:\\users\\dell\\desktop\\capstone\\venv\\lib\\site-packages (from langchain) (6.0.1)\n",
            "Requirement already satisfied: SQLAlchemy<3,>=1.4 in c:\\users\\dell\\desktop\\capstone\\venv\\lib\\site-packages (from langchain) (2.0.31)\n",
            "Requirement already satisfied: aiohttp<4.0.0,>=3.8.3 in c:\\users\\dell\\desktop\\capstone\\venv\\lib\\site-packages (from langchain) (3.9.5)\n",
            "Requirement already satisfied: langchain-core<0.3.0,>=0.2.10 in c:\\users\\dell\\desktop\\capstone\\venv\\lib\\site-packages (from langchain) (0.2.10)\n",
            "Requirement already satisfied: langchain-text-splitters<0.3.0,>=0.2.0 in c:\\users\\dell\\desktop\\capstone\\venv\\lib\\site-packages (from langchain) (0.2.2)\n",
            "Requirement already satisfied: langsmith<0.2.0,>=0.1.17 in c:\\users\\dell\\desktop\\capstone\\venv\\lib\\site-packages (from langchain) (0.1.82)\n",
            "Requirement already satisfied: numpy<2,>=1 in c:\\users\\dell\\desktop\\capstone\\venv\\lib\\site-packages (from langchain) (1.26.4)\n",
            "Requirement already satisfied: pydantic<3,>=1 in c:\\users\\dell\\desktop\\capstone\\venv\\lib\\site-packages (from langchain) (2.7.4)\n",
            "Requirement already satisfied: requests<3,>=2 in c:\\users\\dell\\desktop\\capstone\\venv\\lib\\site-packages (from langchain) (2.32.3)\n",
            "Requirement already satisfied: tenacity!=8.4.0,<9.0.0,>=8.1.0 in c:\\users\\dell\\desktop\\capstone\\venv\\lib\\site-packages (from langchain) (8.4.2)\n",
            "Requirement already satisfied: aiosignal>=1.1.2 in c:\\users\\dell\\desktop\\capstone\\venv\\lib\\site-packages (from aiohttp<4.0.0,>=3.8.3->langchain) (1.3.1)\n",
            "Requirement already satisfied: attrs>=17.3.0 in c:\\users\\dell\\desktop\\capstone\\venv\\lib\\site-packages (from aiohttp<4.0.0,>=3.8.3->langchain) (23.2.0)\n",
            "Requirement already satisfied: frozenlist>=1.1.1 in c:\\users\\dell\\desktop\\capstone\\venv\\lib\\site-packages (from aiohttp<4.0.0,>=3.8.3->langchain) (1.4.1)\n",
            "Requirement already satisfied: multidict<7.0,>=4.5 in c:\\users\\dell\\desktop\\capstone\\venv\\lib\\site-packages (from aiohttp<4.0.0,>=3.8.3->langchain) (6.0.5)\n",
            "Requirement already satisfied: yarl<2.0,>=1.0 in c:\\users\\dell\\desktop\\capstone\\venv\\lib\\site-packages (from aiohttp<4.0.0,>=3.8.3->langchain) (1.9.4)\n",
            "Requirement already satisfied: jsonpatch<2.0,>=1.33 in c:\\users\\dell\\desktop\\capstone\\venv\\lib\\site-packages (from langchain-core<0.3.0,>=0.2.10->langchain) (1.33)\n",
            "Requirement already satisfied: packaging<25,>=23.2 in c:\\users\\dell\\desktop\\capstone\\venv\\lib\\site-packages (from langchain-core<0.3.0,>=0.2.10->langchain) (24.1)\n",
            "Requirement already satisfied: orjson<4.0.0,>=3.9.14 in c:\\users\\dell\\desktop\\capstone\\venv\\lib\\site-packages (from langsmith<0.2.0,>=0.1.17->langchain) (3.10.5)\n",
            "Requirement already satisfied: annotated-types>=0.4.0 in c:\\users\\dell\\desktop\\capstone\\venv\\lib\\site-packages (from pydantic<3,>=1->langchain) (0.7.0)\n",
            "Requirement already satisfied: pydantic-core==2.18.4 in c:\\users\\dell\\desktop\\capstone\\venv\\lib\\site-packages (from pydantic<3,>=1->langchain) (2.18.4)\n",
            "Requirement already satisfied: typing-extensions>=4.6.1 in c:\\users\\dell\\desktop\\capstone\\venv\\lib\\site-packages (from pydantic<3,>=1->langchain) (4.12.2)\n",
            "Requirement already satisfied: charset-normalizer<4,>=2 in c:\\users\\dell\\desktop\\capstone\\venv\\lib\\site-packages (from requests<3,>=2->langchain) (3.3.2)\n",
            "Requirement already satisfied: idna<4,>=2.5 in c:\\users\\dell\\desktop\\capstone\\venv\\lib\\site-packages (from requests<3,>=2->langchain) (3.7)\n",
            "Requirement already satisfied: urllib3<3,>=1.21.1 in c:\\users\\dell\\desktop\\capstone\\venv\\lib\\site-packages (from requests<3,>=2->langchain) (2.2.2)\n",
            "Requirement already satisfied: certifi>=2017.4.17 in c:\\users\\dell\\desktop\\capstone\\venv\\lib\\site-packages (from requests<3,>=2->langchain) (2024.6.2)\n",
            "Requirement already satisfied: greenlet!=0.4.17 in c:\\users\\dell\\desktop\\capstone\\venv\\lib\\site-packages (from SQLAlchemy<3,>=1.4->langchain) (3.0.3)\n",
            "Requirement already satisfied: jsonpointer>=1.9 in c:\\users\\dell\\desktop\\capstone\\venv\\lib\\site-packages (from jsonpatch<2.0,>=1.33->langchain-core<0.3.0,>=0.2.10->langchain) (3.0.0)\n",
            "Note: you may need to restart the kernel to use updated packages.\n"
          ]
        },
        {
          "name": "stderr",
          "output_type": "stream",
          "text": [
            "\n",
            "[notice] A new release of pip is available: 24.1.1 -> 24.1.2\n",
            "[notice] To update, run: python.exe -m pip install --upgrade pip\n"
          ]
        },
        {
          "name": "stdout",
          "output_type": "stream",
          "text": [
            "Requirement already satisfied: langchain_community in c:\\users\\dell\\desktop\\capstone\\venv\\lib\\site-packages (0.2.6)\n",
            "Requirement already satisfied: PyYAML>=5.3 in c:\\users\\dell\\desktop\\capstone\\venv\\lib\\site-packages (from langchain_community) (6.0.1)\n",
            "Requirement already satisfied: SQLAlchemy<3,>=1.4 in c:\\users\\dell\\desktop\\capstone\\venv\\lib\\site-packages (from langchain_community) (2.0.31)\n",
            "Requirement already satisfied: aiohttp<4.0.0,>=3.8.3 in c:\\users\\dell\\desktop\\capstone\\venv\\lib\\site-packages (from langchain_community) (3.9.5)\n",
            "Requirement already satisfied: dataclasses-json<0.7,>=0.5.7 in c:\\users\\dell\\desktop\\capstone\\venv\\lib\\site-packages (from langchain_community) (0.6.7)\n",
            "Requirement already satisfied: langchain<0.3.0,>=0.2.6 in c:\\users\\dell\\desktop\\capstone\\venv\\lib\\site-packages (from langchain_community) (0.2.6)\n",
            "Requirement already satisfied: langchain-core<0.3.0,>=0.2.10 in c:\\users\\dell\\desktop\\capstone\\venv\\lib\\site-packages (from langchain_community) (0.2.10)\n",
            "Requirement already satisfied: langsmith<0.2.0,>=0.1.0 in c:\\users\\dell\\desktop\\capstone\\venv\\lib\\site-packages (from langchain_community) (0.1.82)\n",
            "Requirement already satisfied: numpy<2,>=1 in c:\\users\\dell\\desktop\\capstone\\venv\\lib\\site-packages (from langchain_community) (1.26.4)\n",
            "Requirement already satisfied: requests<3,>=2 in c:\\users\\dell\\desktop\\capstone\\venv\\lib\\site-packages (from langchain_community) (2.32.3)\n",
            "Requirement already satisfied: tenacity!=8.4.0,<9.0.0,>=8.1.0 in c:\\users\\dell\\desktop\\capstone\\venv\\lib\\site-packages (from langchain_community) (8.4.2)\n",
            "Requirement already satisfied: aiosignal>=1.1.2 in c:\\users\\dell\\desktop\\capstone\\venv\\lib\\site-packages (from aiohttp<4.0.0,>=3.8.3->langchain_community) (1.3.1)\n",
            "Requirement already satisfied: attrs>=17.3.0 in c:\\users\\dell\\desktop\\capstone\\venv\\lib\\site-packages (from aiohttp<4.0.0,>=3.8.3->langchain_community) (23.2.0)\n",
            "Requirement already satisfied: frozenlist>=1.1.1 in c:\\users\\dell\\desktop\\capstone\\venv\\lib\\site-packages (from aiohttp<4.0.0,>=3.8.3->langchain_community) (1.4.1)\n",
            "Requirement already satisfied: multidict<7.0,>=4.5 in c:\\users\\dell\\desktop\\capstone\\venv\\lib\\site-packages (from aiohttp<4.0.0,>=3.8.3->langchain_community) (6.0.5)\n",
            "Requirement already satisfied: yarl<2.0,>=1.0 in c:\\users\\dell\\desktop\\capstone\\venv\\lib\\site-packages (from aiohttp<4.0.0,>=3.8.3->langchain_community) (1.9.4)\n",
            "Requirement already satisfied: marshmallow<4.0.0,>=3.18.0 in c:\\users\\dell\\desktop\\capstone\\venv\\lib\\site-packages (from dataclasses-json<0.7,>=0.5.7->langchain_community) (3.21.3)\n",
            "Requirement already satisfied: typing-inspect<1,>=0.4.0 in c:\\users\\dell\\desktop\\capstone\\venv\\lib\\site-packages (from dataclasses-json<0.7,>=0.5.7->langchain_community) (0.9.0)\n",
            "Requirement already satisfied: langchain-text-splitters<0.3.0,>=0.2.0 in c:\\users\\dell\\desktop\\capstone\\venv\\lib\\site-packages (from langchain<0.3.0,>=0.2.6->langchain_community) (0.2.2)\n",
            "Requirement already satisfied: pydantic<3,>=1 in c:\\users\\dell\\desktop\\capstone\\venv\\lib\\site-packages (from langchain<0.3.0,>=0.2.6->langchain_community) (2.7.4)\n",
            "Requirement already satisfied: jsonpatch<2.0,>=1.33 in c:\\users\\dell\\desktop\\capstone\\venv\\lib\\site-packages (from langchain-core<0.3.0,>=0.2.10->langchain_community) (1.33)\n",
            "Requirement already satisfied: packaging<25,>=23.2 in c:\\users\\dell\\desktop\\capstone\\venv\\lib\\site-packages (from langchain-core<0.3.0,>=0.2.10->langchain_community) (24.1)\n",
            "Requirement already satisfied: orjson<4.0.0,>=3.9.14 in c:\\users\\dell\\desktop\\capstone\\venv\\lib\\site-packages (from langsmith<0.2.0,>=0.1.0->langchain_community) (3.10.5)\n",
            "Requirement already satisfied: charset-normalizer<4,>=2 in c:\\users\\dell\\desktop\\capstone\\venv\\lib\\site-packages (from requests<3,>=2->langchain_community) (3.3.2)\n",
            "Requirement already satisfied: idna<4,>=2.5 in c:\\users\\dell\\desktop\\capstone\\venv\\lib\\site-packages (from requests<3,>=2->langchain_community) (3.7)\n",
            "Requirement already satisfied: urllib3<3,>=1.21.1 in c:\\users\\dell\\desktop\\capstone\\venv\\lib\\site-packages (from requests<3,>=2->langchain_community) (2.2.2)\n",
            "Requirement already satisfied: certifi>=2017.4.17 in c:\\users\\dell\\desktop\\capstone\\venv\\lib\\site-packages (from requests<3,>=2->langchain_community) (2024.6.2)\n",
            "Requirement already satisfied: typing-extensions>=4.6.0 in c:\\users\\dell\\desktop\\capstone\\venv\\lib\\site-packages (from SQLAlchemy<3,>=1.4->langchain_community) (4.12.2)\n",
            "Requirement already satisfied: greenlet!=0.4.17 in c:\\users\\dell\\desktop\\capstone\\venv\\lib\\site-packages (from SQLAlchemy<3,>=1.4->langchain_community) (3.0.3)\n",
            "Requirement already satisfied: jsonpointer>=1.9 in c:\\users\\dell\\desktop\\capstone\\venv\\lib\\site-packages (from jsonpatch<2.0,>=1.33->langchain-core<0.3.0,>=0.2.10->langchain_community) (3.0.0)\n",
            "Requirement already satisfied: annotated-types>=0.4.0 in c:\\users\\dell\\desktop\\capstone\\venv\\lib\\site-packages (from pydantic<3,>=1->langchain<0.3.0,>=0.2.6->langchain_community) (0.7.0)\n",
            "Requirement already satisfied: pydantic-core==2.18.4 in c:\\users\\dell\\desktop\\capstone\\venv\\lib\\site-packages (from pydantic<3,>=1->langchain<0.3.0,>=0.2.6->langchain_community) (2.18.4)\n",
            "Requirement already satisfied: mypy-extensions>=0.3.0 in c:\\users\\dell\\desktop\\capstone\\venv\\lib\\site-packages (from typing-inspect<1,>=0.4.0->dataclasses-json<0.7,>=0.5.7->langchain_community) (1.0.0)\n",
            "Note: you may need to restart the kernel to use updated packages.\n"
          ]
        },
        {
          "name": "stderr",
          "output_type": "stream",
          "text": [
            "\n",
            "[notice] A new release of pip is available: 24.1.1 -> 24.1.2\n",
            "[notice] To update, run: python.exe -m pip install --upgrade pip\n"
          ]
        }
      ],
      "source": [
        "# Set up a local ollama instance\n",
        "%pip install langchain\n",
        "%pip install langchain_community\n",
        "from langchain_community.llms import Ollama\n",
        "llm = Ollama(model=\"llama2\")"
      ]
    },
    {
      "cell_type": "code",
      "execution_count": null,
      "metadata": {
        "id": "9cbY66UNLTnp",
        "outputId": "9b17441e-04dd-422a-dccd-e88fff555a4b"
      },
      "outputs": [
        {
          "name": "stdout",
          "output_type": "stream",
          "text": [
            "Module imported successfully.\n"
          ]
        }
      ],
      "source": [
        "# Verify successful importation\n",
        "try:\n",
        "    from langchain_community.llms import Ollama\n",
        "    llm = Ollama(model=\"llama2\")\n",
        "    print(\"Module imported successfully.\")\n",
        "except ModuleNotFoundError as e:\n",
        "    print(f\"Error: {e}\")\n"
      ]
    },
    {
      "cell_type": "code",
      "execution_count": null,
      "metadata": {
        "id": "uuzl5DWVLTnq"
      },
      "outputs": [],
      "source": [
        "# Test run\n",
        "#llm.invoke(\"how can langsmith help with testing?\")"
      ]
    },
    {
      "cell_type": "code",
      "execution_count": null,
      "metadata": {
        "id": "hp08u0qsLTnq"
      },
      "outputs": [],
      "source": [
        "# Prompt Engineering\n",
        "from langchain_core.prompts import ChatPromptTemplate\n",
        "prompt = ChatPromptTemplate.from_messages([\n",
        "    (\"system\", \"You are a world class technical documentation writer.\"),\n",
        "    (\"user\", \"{input}\")\n",
        "])"
      ]
    },
    {
      "cell_type": "code",
      "execution_count": null,
      "metadata": {
        "id": "31GmISJjLTnr"
      },
      "outputs": [],
      "source": [
        "# Convert output to string\n",
        "from langchain_core.output_parsers import StrOutputParser\n",
        "output_parser = StrOutputParser()\n"
      ]
    },
    {
      "cell_type": "code",
      "execution_count": null,
      "metadata": {
        "id": "j6XjAkITLTnr"
      },
      "outputs": [],
      "source": [
        "# Create LLM chain\n",
        "chain = prompt | llm | output_parser"
      ]
    },
    {
      "cell_type": "code",
      "execution_count": null,
      "metadata": {
        "id": "XyAm_w81LTns"
      },
      "outputs": [],
      "source": [
        "# invoke chain after prompting\n",
        "# chain.invoke({\"input\": \"How can langsmith help with testing?\"})"
      ]
    },
    {
      "cell_type": "markdown",
      "metadata": {
        "id": "jeHM2gOVLTns"
      },
      "source": [
        "## Retrieval System\n"
      ]
    },
    {
      "cell_type": "markdown",
      "metadata": {
        "id": "gbn5Q3DcLTns"
      },
      "source": [
        "### Authenticate and fetch documents from Google Drive"
      ]
    },
    {
      "cell_type": "code",
      "execution_count": null,
      "metadata": {
        "id": "XnzQwik2LTnt",
        "outputId": "5d036d1e-5040-4af7-f68d-318d7a14d1c8"
      },
      "outputs": [
        {
          "name": "stdout",
          "output_type": "stream",
          "text": [
            "Note: you may need to restart the kernel to use updated packages.\n"
          ]
        },
        {
          "name": "stderr",
          "output_type": "stream",
          "text": [
            "ERROR: Invalid requirement: 'pydrive\\\\': Expected end or semicolon (after name and no valid version specifier)\n",
            "    pydrive\\\n",
            "           ^\n",
            "Hint: It looks like a path. File 'pydrive\\' does not exist.\n",
            "\n",
            "[notice] A new release of pip is available: 24.1.1 -> 24.1.2\n",
            "[notice] To update, run: python.exe -m pip install --upgrade pip\n"
          ]
        }
      ],
      "source": [
        "# install pydrive library\n",
        "%pip install pydrive\\"
      ]
    },
    {
      "cell_type": "code",
      "execution_count": null,
      "metadata": {
        "id": "ArXJQ7_4LTnt"
      },
      "outputs": [],
      "source": [
        "# Import libraries\n",
        "from pydrive.auth import GoogleAuth\n",
        "from pydrive.drive import GoogleDrive\n",
        "from oauth2client.service_account import ServiceAccountCredentials\n",
        "\n"
      ]
    },
    {
      "cell_type": "code",
      "execution_count": null,
      "metadata": {
        "id": "mNS5_IrtLTnt"
      },
      "outputs": [],
      "source": [
        "# Specify the path to the JSON key files\n",
        "client_secrets_path = r\"C:\\Users\\DELL\\Desktop\\Capstone\\client_secret_715081280632-bo6ptf64unmpe7r9jkc79v0rbcm7323f.apps.googleusercontent.com.json\"\n",
        "credentials = ServiceAccountCredentials.from_json_keyfile_name(r'C:\\Users\\DELL\\Desktop\\Capstone\\HyperChat Service Account Key.json')"
      ]
    },
    {
      "cell_type": "code",
      "execution_count": null,
      "metadata": {
        "id": "AoCGZT0ELTnu",
        "outputId": "ade487af-d3a7-4f56-d7bd-2a0c7ce45972"
      },
      "outputs": [
        {
          "name": "stdout",
          "output_type": "stream",
          "text": [
            "Your browser has been opened to visit:\n",
            "\n",
            "    https://accounts.google.com/o/oauth2/auth?client_id=715081280632-bo6ptf64unmpe7r9jkc79v0rbcm7323f.apps.googleusercontent.com&redirect_uri=http%3A%2F%2Flocalhost%3A8080%2F&scope=https%3A%2F%2Fwww.googleapis.com%2Fauth%2Fdrive&access_type=offline&response_type=code\n",
            "\n",
            "Authentication successful.\n"
          ]
        }
      ],
      "source": [
        "# Authenticate and create the PyDrive client\n",
        "gauth = GoogleAuth()\n",
        "gauth.LoadClientConfigFile(client_secrets_path)\n",
        "gauth.LocalWebserverAuth() # creates local webserver and automatically handles authentication\n",
        "drive = GoogleDrive(gauth)"
      ]
    },
    {
      "cell_type": "code",
      "execution_count": null,
      "metadata": {
        "id": "SCIHlaaHLTnu"
      },
      "outputs": [],
      "source": [
        "# Fetch a file by it's ID\n",
        "file_id = \"1uuNNsi3mXXN1VvHBP3dvSmoyATOxiCvo\"\n",
        "file = drive.CreateFile({'id': file_id})\n",
        "\n",
        "# Download the file to local Machine\n",
        "file.GetContentFile('document.txt')"
      ]
    },
    {
      "cell_type": "code",
      "execution_count": null,
      "metadata": {
        "id": "h_r4jawnLTnu"
      },
      "outputs": [],
      "source": [
        "# Try reading the file with different encodings\n",
        "encodings = ['utf-8', 'latin-1', 'iso-8859-1', 'cp1252']\n",
        "document_content = None\n",
        "\n",
        "for encoding in encodings:\n",
        "    try:\n",
        "        with open('document.txt', 'r', encoding=encoding) as f:\n",
        "            document_content = f.read()\n",
        "        break  # If reading is successful, break out of the loop\n",
        "    except UnicodeDecodeError:\n",
        "        continue  # Try the next encoding\n",
        "\n",
        "if document_content is None:\n",
        "    raise UnicodeDecodeError(\"Unable to read the file with tried encodings.\")\n"
      ]
    },
    {
      "cell_type": "code",
      "execution_count": null,
      "metadata": {
        "id": "x-N0PwPKLTnu"
      },
      "outputs": [],
      "source": [
        "# Create a document object\n",
        "from langchain.docstore.document import Document\n",
        "doc = Document(page_content=document_content, metadata={})"
      ]
    },
    {
      "cell_type": "code",
      "execution_count": null,
      "metadata": {
        "id": "DbZOHhA2LTnv"
      },
      "outputs": [],
      "source": [
        "# Split the document\n",
        "from langchain_text_splitters import RecursiveCharacterTextSplitter\n",
        "text_splitter = RecursiveCharacterTextSplitter()\n",
        "documents = text_splitter.split_documents([doc])"
      ]
    },
    {
      "cell_type": "code",
      "execution_count": null,
      "metadata": {
        "id": "02MIw9C3LTnv"
      },
      "outputs": [],
      "source": [
        "# Extract texts for embedding\n",
        "texts = [d.page_content for d in documents]"
      ]
    },
    {
      "cell_type": "code",
      "execution_count": null,
      "metadata": {
        "id": "9XT-RsyjLTnv"
      },
      "outputs": [],
      "source": [
        "# Import Embedding Model\n",
        "from langchain_community.embeddings import OllamaEmbeddings\n",
        "embedding_model = OllamaEmbeddings() # instantiate the embeddings object"
      ]
    },
    {
      "cell_type": "code",
      "execution_count": null,
      "metadata": {
        "id": "j-v1fOymLTnv"
      },
      "outputs": [],
      "source": [
        "# Embed the documents\n",
        "embedded_texts = embedding_model.embed_documents(texts)"
      ]
    },
    {
      "cell_type": "code",
      "execution_count": null,
      "metadata": {
        "id": "OCElkb7HLTnv"
      },
      "outputs": [],
      "source": [
        "# Create metadata for the embeddings\n",
        "metadata = [{\"id\": i, \"text\": text} for i, text in enumerate(texts)]"
      ]
    },
    {
      "cell_type": "code",
      "execution_count": null,
      "metadata": {
        "id": "AgJYeMCkLTnw"
      },
      "outputs": [],
      "source": [
        "# Pair each text with its corresponding embedding\n",
        "# text_embedding_pairs = list(zip(texts, embedded_texts))"
      ]
    },
    {
      "cell_type": "markdown",
      "metadata": {
        "id": "HfvUDtb-LTnw"
      },
      "source": [
        "### Index File into a vectorstore"
      ]
    },
    {
      "cell_type": "code",
      "execution_count": null,
      "metadata": {
        "id": "9kBh859-LTnw",
        "outputId": "669c3b0b-1e89-4aa3-89e1-edec235709e2"
      },
      "outputs": [
        {
          "name": "stdout",
          "output_type": "stream",
          "text": [
            "Requirement already satisfied: faiss-cpu in c:\\users\\dell\\desktop\\capstone\\venv\\lib\\site-packages (1.8.0.post1)Note: you may need to restart the kernel to use updated packages.\n"
          ]
        },
        {
          "name": "stderr",
          "output_type": "stream",
          "text": [
            "\n",
            "[notice] A new release of pip is available: 24.1.1 -> 24.1.2\n",
            "[notice] To update, run: python.exe -m pip install --upgrade pip\n"
          ]
        },
        {
          "name": "stdout",
          "output_type": "stream",
          "text": [
            "\n",
            "Requirement already satisfied: numpy<2.0,>=1.0 in c:\\users\\dell\\desktop\\capstone\\venv\\lib\\site-packages (from faiss-cpu) (1.26.4)\n",
            "Requirement already satisfied: packaging in c:\\users\\dell\\desktop\\capstone\\venv\\lib\\site-packages (from faiss-cpu) (24.1)\n"
          ]
        }
      ],
      "source": [
        "# Import and install FAISS Vectorstore\n",
        "from langchain_community.vectorstores import FAISS\n",
        "%pip install faiss-cpu"
      ]
    },
    {
      "cell_type": "code",
      "execution_count": null,
      "metadata": {
        "id": "5AdJle85LTnw",
        "outputId": "6e15f077-965d-47a4-adce-afe5b8e16613"
      },
      "outputs": [
        {
          "ename": "ValueError",
          "evalue": "too many values to unpack (expected 2)",
          "output_type": "error",
          "traceback": [
            "\u001b[1;31m---------------------------------------------------------------------------\u001b[0m",
            "\u001b[1;31mValueError\u001b[0m                                Traceback (most recent call last)",
            "Cell \u001b[1;32mIn[38], line 2\u001b[0m\n\u001b[0;32m      1\u001b[0m \u001b[38;5;66;03m# Build the vector index\u001b[39;00m\n\u001b[1;32m----> 2\u001b[0m vector \u001b[38;5;241m=\u001b[39m \u001b[43mFAISS\u001b[49m\u001b[38;5;241;43m.\u001b[39;49m\u001b[43mfrom_embeddings\u001b[49m\u001b[43m(\u001b[49m\u001b[43mtexts\u001b[49m\u001b[43m,\u001b[49m\u001b[43m \u001b[49m\u001b[43membedded_texts\u001b[49m\u001b[43m,\u001b[49m\u001b[43m \u001b[49m\u001b[43mmetadatas\u001b[49m\u001b[38;5;241;43m=\u001b[39;49m\u001b[43mmetadata\u001b[49m\u001b[43m)\u001b[49m\n\u001b[0;32m      3\u001b[0m \u001b[38;5;66;03m# Save the FAISS index \u001b[39;00m\n\u001b[0;32m      4\u001b[0m vector\u001b[38;5;241m.\u001b[39msave_local(\u001b[38;5;124mr\u001b[39m\u001b[38;5;124m\"\u001b[39m\u001b[38;5;124mC:\u001b[39m\u001b[38;5;124m\\\u001b[39m\u001b[38;5;124mUsers\u001b[39m\u001b[38;5;124m\\\u001b[39m\u001b[38;5;124mDELL\u001b[39m\u001b[38;5;124m\\\u001b[39m\u001b[38;5;124mDesktop\u001b[39m\u001b[38;5;124m\\\u001b[39m\u001b[38;5;124mCapstone\u001b[39m\u001b[38;5;124m\"\u001b[39m)\n",
            "File \u001b[1;32mc:\\Users\\DELL\\Desktop\\Capstone\\venv\\Lib\\site-packages\\langchain_community\\vectorstores\\faiss.py:1006\u001b[0m, in \u001b[0;36mFAISS.from_embeddings\u001b[1;34m(cls, text_embeddings, embedding, metadatas, ids, **kwargs)\u001b[0m\n\u001b[0;32m    977\u001b[0m \u001b[38;5;129m@classmethod\u001b[39m\n\u001b[0;32m    978\u001b[0m \u001b[38;5;28;01mdef\u001b[39;00m \u001b[38;5;21mfrom_embeddings\u001b[39m(\n\u001b[0;32m    979\u001b[0m     \u001b[38;5;28mcls\u001b[39m,\n\u001b[1;32m   (...)\u001b[0m\n\u001b[0;32m    984\u001b[0m     \u001b[38;5;241m*\u001b[39m\u001b[38;5;241m*\u001b[39mkwargs: Any,\n\u001b[0;32m    985\u001b[0m ) \u001b[38;5;241m-\u001b[39m\u001b[38;5;241m>\u001b[39m FAISS:\n\u001b[0;32m    986\u001b[0m \u001b[38;5;250m    \u001b[39m\u001b[38;5;124;03m\"\"\"Construct FAISS wrapper from raw documents.\u001b[39;00m\n\u001b[0;32m    987\u001b[0m \n\u001b[0;32m    988\u001b[0m \u001b[38;5;124;03m    This is a user friendly interface that:\u001b[39;00m\n\u001b[1;32m   (...)\u001b[0m\n\u001b[0;32m   1004\u001b[0m \u001b[38;5;124;03m            faiss = FAISS.from_embeddings(text_embedding_pairs, embeddings)\u001b[39;00m\n\u001b[0;32m   1005\u001b[0m \u001b[38;5;124;03m    \"\"\"\u001b[39;00m\n\u001b[1;32m-> 1006\u001b[0m     texts, embeddings \u001b[38;5;241m=\u001b[39m \u001b[38;5;28mzip\u001b[39m(\u001b[38;5;241m*\u001b[39mtext_embeddings)\n\u001b[0;32m   1007\u001b[0m     \u001b[38;5;28;01mreturn\u001b[39;00m \u001b[38;5;28mcls\u001b[39m\u001b[38;5;241m.\u001b[39m__from(\n\u001b[0;32m   1008\u001b[0m         \u001b[38;5;28mlist\u001b[39m(texts),\n\u001b[0;32m   1009\u001b[0m         \u001b[38;5;28mlist\u001b[39m(embeddings),\n\u001b[1;32m   (...)\u001b[0m\n\u001b[0;32m   1013\u001b[0m         \u001b[38;5;241m*\u001b[39m\u001b[38;5;241m*\u001b[39mkwargs,\n\u001b[0;32m   1014\u001b[0m     )\n",
            "\u001b[1;31mValueError\u001b[0m: too many values to unpack (expected 2)"
          ]
        }
      ],
      "source": [
        "# Build the vector index\n",
        "vector = FAISS.from_embeddings(texts, embedded_texts, metadatas=metadata)\n",
        "# Save the FAISS index\n",
        "vector.save_local(r\"C:\\Users\\DELL\\Desktop\\Capstone\")"
      ]
    },
    {
      "cell_type": "markdown",
      "metadata": {
        "id": "onugn-wDLTnx"
      },
      "source": [
        "## Creating the Retrieval Chain"
      ]
    },
    {
      "cell_type": "code",
      "execution_count": null,
      "metadata": {
        "id": "MoaOZdgYLTnx"
      },
      "outputs": [],
      "source": [
        "# Prompt | Retrieval Doc | LLM | Answer\n",
        "\n",
        "from langchain.chains.combine_documents import create_stuff_documents_chain\n",
        "prompt = ChatPromptTemplate.from_template(\"Answer the following question based only on the provided context:\")\n"
      ]
    }
  ],
  "metadata": {
    "kernelspec": {
      "display_name": "venv",
      "language": "python",
      "name": "python3"
    },
    "language_info": {
      "codemirror_mode": {
        "name": "ipython",
        "version": 3
      },
      "file_extension": ".py",
      "mimetype": "text/x-python",
      "name": "python",
      "nbconvert_exporter": "python",
      "pygments_lexer": "ipython3",
      "version": "3.11.9"
    },
    "colab": {
      "provenance": [],
      "include_colab_link": true
    }
  },
  "nbformat": 4,
  "nbformat_minor": 0
}